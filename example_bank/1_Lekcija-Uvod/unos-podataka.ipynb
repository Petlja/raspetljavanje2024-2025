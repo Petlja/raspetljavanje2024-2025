{
 "cells": [
  {
   "cell_type": "markdown",
   "metadata": {},
   "source": [
    "# Unos Podataka"
   ]
  },
  {
   "cell_type": "code",
   "execution_count": 1,
   "metadata": {},
   "outputs": [
    {
     "name": "stdout",
     "output_type": "stream",
     "text": [
      "Moje ime je Vladan\n"
     ]
    }
   ],
   "source": [
    "ime = input()\n",
    "print(\"Zdravo\", ime)"
   ]
  },
  {
   "cell_type": "markdown",
   "metadata": {},
   "source": [
    "<font color='yellow'> **NOTE:** </font>  Primetimo razlicito formiranje print() funkcije"
   ]
  },
  {
   "cell_type": "code",
   "execution_count": 2,
   "metadata": {},
   "outputs": [
    {
     "name": "stdout",
     "output_type": "stream",
     "text": [
      "Moje ime je Vladan\n"
     ]
    }
   ],
   "source": [
    "ime = input()\n",
    "print(\"Moje ime jedravo \" + ime)"
   ]
  },
  {
   "cell_type": "code",
   "execution_count": 3,
   "metadata": {},
   "outputs": [
    {
     "name": "stdout",
     "output_type": "stream",
     "text": [
      "Zdravo Vladan\n"
     ]
    }
   ],
   "source": [
    "ime = input(\"Kako se zoveš? \")\n",
    "print(\"Zdravo\", ime)"
   ]
  },
  {
   "cell_type": "markdown",
   "metadata": {},
   "source": [
    "<font color='yellow'> **NOTE:** </font> Ovo moze biti pitanje da se pretpostavi izlaz ako je ulaz ..."
   ]
  },
  {
   "cell_type": "code",
   "execution_count": 4,
   "metadata": {},
   "outputs": [
    {
     "name": "stdout",
     "output_type": "stream",
     "text": [
      "Zbir je 23\n"
     ]
    }
   ],
   "source": [
    "a = input(\"Unesi prvi sabirak: \")\n",
    "b = input(\"Unesi drugi sabirak: \")\n",
    "zbir = a + b\n",
    "print(\"Zbir je\", zbir)\n"
   ]
  },
  {
   "cell_type": "code",
   "execution_count": 5,
   "metadata": {},
   "outputs": [
    {
     "name": "stdout",
     "output_type": "stream",
     "text": [
      "Zbir je 5\n"
     ]
    }
   ],
   "source": [
    "a = input(\"Unesi prvi sabirak: \")\n",
    "b = input(\"Unesi drugi sabirak: \")\n",
    "a = int(a)\n",
    "b = int(b)\n",
    "zbir = a + b\n",
    "print(\"Zbir je\", zbir)"
   ]
  },
  {
   "cell_type": "code",
   "execution_count": 6,
   "metadata": {},
   "outputs": [
    {
     "name": "stdout",
     "output_type": "stream",
     "text": [
      "Zbir je 5\n"
     ]
    }
   ],
   "source": [
    "a = int(input(\"Unesi prvi sabirak: \"))\n",
    "b = int(input(\"Unesi drugi sabirak: \"))\n",
    "zbir = a + b\n",
    "print(\"Zbir je\", zbir)"
   ]
  },
  {
   "cell_type": "markdown",
   "metadata": {},
   "source": [
    "<font color='yellow'> **NOTE:** </font> Ovo pitanje prekopirati sa proslogodisnjeg Raspetljavanja"
   ]
  },
  {
   "cell_type": "code",
   "execution_count": null,
   "metadata": {},
   "outputs": [],
   "source": [
    "heroj = input(\"Kako se zove junak? \")\n",
    "mesto = input(\"Gde je pošao? \")\n",
    "avantura = input(\"Šta tamo želi da uradi? \")\n",
    "print(heroj , \"je trkom krenuo\" , mesto , \"da što pre\" + avantura + \".\")"
   ]
  }
 ],
 "metadata": {
  "kernelspec": {
   "display_name": ".venv",
   "language": "python",
   "name": "python3"
  },
  "language_info": {
   "codemirror_mode": {
    "name": "ipython",
    "version": 3
   },
   "file_extension": ".py",
   "mimetype": "text/x-python",
   "name": "python",
   "nbconvert_exporter": "python",
   "pygments_lexer": "ipython3",
   "version": "3.12.6"
  }
 },
 "nbformat": 4,
 "nbformat_minor": 2
}
