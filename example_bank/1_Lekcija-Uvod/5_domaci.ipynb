{
 "cells": [
  {
   "cell_type": "markdown",
   "metadata": {},
   "source": [
    "# Domaći Zadaci"
   ]
  },
  {
   "cell_type": "markdown",
   "metadata": {},
   "source": [
    "### 1. Zadatak\n",
    "Marko planira rođendansku zabavu. Ima ograničen budžet i mora da izračuna koliko mu novca treba za hranu, piće i tortu. Zna da po osobi treba da potroši 500 dinara za hranu i 250 dinara za piće, kao i da za tortu mora da potroši 1500 dinara. Napiši program koji će izračunati ukupan iznos koji je potreban Marku za hranu, piće i tortu. Program treba da pročita broj gostiju sa standardnog ulaza i da ispiše ukupan iznos na standardni izlaz."
   ]
  },
  {
   "cell_type": "markdown",
   "metadata": {},
   "source": [
    "### 2. Zadatak\n",
    "Grupa učenika ide na izlet, a učiteljica mora da organizuje prevoz. Postoji autobus koji može da primi maksimalno 50 učenika. Napiši program koji će pročitati broj učenika sa standardnog ulaza i ispisati koliko je autobusa potrebno da bi se prevezli svi učenici kao i broj učenika u poslednjem autobuju."
   ]
  },
  {
   "cell_type": "markdown",
   "metadata": {},
   "source": [
    "### 3. Zadatak\n",
    "Napraviti program koji računa platu radnika. Radnik se plaća po satu sve dok ne dostigne 40 radnih sati nedeljno. Ako radnik pređe 40 radnih sati prekovremeni sati se ne plaćaju. Plata po satu je 500 dinara. Program treba da pročita broj radnih sati u nedelji sa standardnog ulaza i da ispiše koliko je radnik zaradio."
   ]
  },
  {
   "cell_type": "markdown",
   "metadata": {},
   "source": [
    "### 4. Zadatak\n",
    "Napravi program koji izračunava zbir cifara trocifrenog broja. Program treba da pročita trocifreni broj sa standardnog ulaza i da ispiše zbir cifara tog broja."
   ]
  },
  {
   "cell_type": "markdown",
   "metadata": {},
   "source": [
    "### 5. Zadatak\n",
    "Napiši program koji traži od korisnika da unese četvorocifren broj, a zatim ispiše taj broj obrnutim redosledom cifara."
   ]
  },
  {
   "cell_type": "markdown",
   "metadata": {},
   "source": []
  }
 ],
 "metadata": {
  "language_info": {
   "name": "python"
  }
 },
 "nbformat": 4,
 "nbformat_minor": 2
}
