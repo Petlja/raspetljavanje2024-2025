{
 "cells": [
  {
   "cell_type": "markdown",
   "metadata": {},
   "source": [
    "# Promenljive i tipovi podataka"
   ]
  },
  {
   "cell_type": "markdown",
   "metadata": {},
   "source": [
    "### String"
   ]
  },
  {
   "cell_type": "code",
   "execution_count": null,
   "metadata": {},
   "outputs": [
    {
     "name": "stdout",
     "output_type": "stream",
     "text": [
      "Marko\n",
      "Moje ime je Marko\n"
     ]
    }
   ],
   "source": [
    "ime = \"Marko\"\n",
    "print(ime)\n",
    "print(\"Moje ime je\", ime)"
   ]
  },
  {
   "cell_type": "code",
   "execution_count": null,
   "metadata": {},
   "outputs": [
    {
     "name": "stdout",
     "output_type": "stream",
     "text": [
      "Petar\n"
     ]
    }
   ],
   "source": [
    "ime = \"Marko\"\n",
    "ime = \"Petar\"\n",
    "print(ime)"
   ]
  },
  {
   "cell_type": "code",
   "execution_count": null,
   "metadata": {},
   "outputs": [],
   "source": [
    "broj = \"2025\"\n",
    "print(broj)"
   ]
  },
  {
   "cell_type": "code",
   "execution_count": null,
   "metadata": {},
   "outputs": [
    {
     "name": "stdout",
     "output_type": "stream",
     "text": [
      "20251\n"
     ]
    }
   ],
   "source": [
    "# Ovaj primer moze koristiti kao uvod u koncept int promenljivih\n",
    "broj = \"2025\" + \"1\"\n",
    "print(broj)"
   ]
  },
  {
   "cell_type": "markdown",
   "metadata": {},
   "source": [
    "### Integer"
   ]
  },
  {
   "cell_type": "code",
   "execution_count": null,
   "metadata": {},
   "outputs": [
    {
     "name": "stdout",
     "output_type": "stream",
     "text": [
      "12\n"
     ]
    }
   ],
   "source": [
    "a = \"1\"\n",
    "b = \"2\"\n",
    "c = a + b\n",
    "print(c)"
   ]
  },
  {
   "cell_type": "code",
   "execution_count": null,
   "metadata": {},
   "outputs": [
    {
     "name": "stdout",
     "output_type": "stream",
     "text": [
      "3\n"
     ]
    }
   ],
   "source": [
    "a = 1\n",
    "b = 2\n",
    "c = a + b\n",
    "print(c)"
   ]
  },
  {
   "cell_type": "code",
   "execution_count": null,
   "metadata": {},
   "outputs": [
    {
     "name": "stdout",
     "output_type": "stream",
     "text": [
      "1\n"
     ]
    }
   ],
   "source": [
    "a = 50\n",
    "a = 1\n",
    "print(a)"
   ]
  },
  {
   "cell_type": "code",
   "execution_count": 1,
   "metadata": {},
   "outputs": [
    {
     "ename": "SyntaxError",
     "evalue": "cannot assign to literal here. Maybe you meant '==' instead of '='? (814398681.py, line 1)",
     "output_type": "error",
     "traceback": [
      "\u001b[0;36m  Cell \u001b[0;32mIn[1], line 1\u001b[0;36m\u001b[0m\n\u001b[0;31m    1 = 1\u001b[0m\n\u001b[0m    ^\u001b[0m\n\u001b[0;31mSyntaxError\u001b[0m\u001b[0;31m:\u001b[0m cannot assign to literal here. Maybe you meant '==' instead of '='?\n"
     ]
    }
   ],
   "source": [
    "# Primeri netacne sintakse\n",
    "1 = 1\n",
    "1 = a"
   ]
  },
  {
   "cell_type": "code",
   "execution_count": 3,
   "metadata": {},
   "outputs": [
    {
     "name": "stdout",
     "output_type": "stream",
     "text": [
      "Zbir: 15\n",
      "Razlika: 9\n",
      "Proizvod: 36\n",
      "Stepen: 1728\n",
      "Kolicnik: 4.0\n",
      "Ostatak: 0\n"
     ]
    }
   ],
   "source": [
    "a = 12\n",
    "b = 3\n",
    "zbir = a + b\n",
    "print(\"Zbir:\", zbir)\n",
    "razlika = a - b\n",
    "print(\"Razlika:\", razlika)\n",
    "proizvod = a * b\n",
    "print(\"Proizvod:\", proizvod)\n",
    "stepen = a ** b\n",
    "print(\"Stepen:\", stepen)\n",
    "kolicnik = a / b\n",
    "print(\"Kolicnik:\", kolicnik)\n",
    "ostatak = a % b\n",
    "print(\"Ostatak:\", ostatak)"
   ]
  },
  {
   "cell_type": "markdown",
   "metadata": {},
   "source": [
    "Primetićemo dve stvari:\n",
    "1. Količnik nije tipa **int**\n",
    "2. Šta je ostatak pri deljenju"
   ]
  },
  {
   "cell_type": "code",
   "execution_count": 4,
   "metadata": {},
   "outputs": [
    {
     "name": "stdout",
     "output_type": "stream",
     "text": [
      "Kolicnik: 2.4\n",
      "Ostatak: 2\n"
     ]
    }
   ],
   "source": [
    "# Ovaj primer moze koristiti kao uvod u koncept float promenljivih\n",
    "a = 12\n",
    "b = 5\n",
    "kolicnik = a / b\n",
    "print(\"Kolicnik:\", kolicnik)\n",
    "ostatak = a % b\n",
    "print(\"Ostatak:\", ostatak)"
   ]
  },
  {
   "cell_type": "markdown",
   "metadata": {},
   "source": [
    "#### Konverzija tipova"
   ]
  },
  {
   "cell_type": "code",
   "execution_count": 22,
   "metadata": {},
   "outputs": [
    {
     "name": "stdout",
     "output_type": "stream",
     "text": [
      "125\n",
      "17\n"
     ]
    }
   ],
   "source": [
    "a1 = \"12\"\n",
    "b1 = \"5\"\n",
    "c1 = a1 + b1\n",
    "print(c1)\n",
    "\n",
    "a2 = int(a1)\n",
    "b2 = int(b1)\n",
    "c2 = a2 + b2\n",
    "print(c2)"
   ]
  },
  {
   "cell_type": "code",
   "execution_count": 24,
   "metadata": {},
   "outputs": [
    {
     "name": "stdout",
     "output_type": "stream",
     "text": [
      "135\n",
      "135.0\n"
     ]
    }
   ],
   "source": [
    "x = 13\n",
    "y = 5\n",
    "x1 = str(x)\n",
    "y1 = str(y)\n",
    "z1 = x1 + y1\n",
    "print(z1)"
   ]
  },
  {
   "cell_type": "markdown",
   "metadata": {},
   "source": [
    "### Float"
   ]
  },
  {
   "cell_type": "code",
   "execution_count": 5,
   "metadata": {},
   "outputs": [
    {
     "name": "stdout",
     "output_type": "stream",
     "text": [
      "2.0\n"
     ]
    }
   ],
   "source": [
    "a = 2.0\n",
    "print(a)"
   ]
  },
  {
   "cell_type": "code",
   "execution_count": 10,
   "metadata": {},
   "outputs": [
    {
     "name": "stdout",
     "output_type": "stream",
     "text": [
      "Zbir: 10.5\n",
      "Razlika: 4.1\n",
      "Proizvod: 23.36\n",
      "Kolicnik: 2.28125\n",
      "Ostatak: 0.8999999999999995\n"
     ]
    }
   ],
   "source": [
    "a = 7.3\n",
    "b = 3.2\n",
    "c = a + b\n",
    "print(\"Zbir:\", c)\n",
    "c = a - b\n",
    "print(\"Razlika:\", c)\n",
    "c = a * b\n",
    "print(\"Proizvod:\", c)\n",
    "c = a / b\n",
    "print(\"Kolicnik:\", c)\n",
    "c = a % b\n",
    "print(\"Ostatak:\", c)"
   ]
  },
  {
   "cell_type": "code",
   "execution_count": 11,
   "metadata": {},
   "outputs": [
    {
     "name": "stdout",
     "output_type": "stream",
     "text": [
      "Zbir: 10.3\n"
     ]
    }
   ],
   "source": [
    "a = 7.3 #float\n",
    "b = 3   #int\n",
    "c = a + b\n",
    "print(\"Zbir:\", c)"
   ]
  },
  {
   "cell_type": "code",
   "execution_count": 15,
   "metadata": {},
   "outputs": [
    {
     "name": "stdout",
     "output_type": "stream",
     "text": [
      "True\n"
     ]
    }
   ],
   "source": [
    "# Ovaj primer može služiti kao uvod u promenljive tipa bool\n",
    "a = 4.3\n",
    "b = 4.3\n",
    "c = a == b\n",
    "print(c)"
   ]
  },
  {
   "cell_type": "markdown",
   "metadata": {},
   "source": [
    "### Boolean"
   ]
  },
  {
   "cell_type": "code",
   "execution_count": 16,
   "metadata": {},
   "outputs": [
    {
     "name": "stdout",
     "output_type": "stream",
     "text": [
      "False\n"
     ]
    }
   ],
   "source": [
    "a = True\n",
    "b = False\n",
    "c = a == b\n",
    "print(c)"
   ]
  },
  {
   "cell_type": "markdown",
   "metadata": {},
   "source": [
    "<font color='red'>!!! Ovde treba da stoji nekakav matematicki podsetnik za osnovce</font>"
   ]
  },
  {
   "cell_type": "code",
   "execution_count": 20,
   "metadata": {},
   "outputs": [
    {
     "name": "stdout",
     "output_type": "stream",
     "text": [
      "0\n",
      "True\n"
     ]
    }
   ],
   "source": [
    "# Provera deljivosti brojeva\n",
    "a = 20\n",
    "ostatak = a % 5\n",
    "print(ostatak)\n",
    "\n",
    "print(ostatak == 0)"
   ]
  },
  {
   "cell_type": "code",
   "execution_count": 18,
   "metadata": {},
   "outputs": [
    {
     "name": "stdout",
     "output_type": "stream",
     "text": [
      "1\n",
      "False\n"
     ]
    }
   ],
   "source": [
    "# Provera parnosti broja\n",
    "a = 5\n",
    "ostatak = a % 2\n",
    "print(ostatak)\n",
    "\n",
    "print(ostatak == 0)"
   ]
  },
  {
   "cell_type": "code",
   "execution_count": null,
   "metadata": {},
   "outputs": [],
   "source": []
  }
 ],
 "metadata": {
  "kernelspec": {
   "display_name": ".venv",
   "language": "python",
   "name": "python3"
  },
  "language_info": {
   "codemirror_mode": {
    "name": "ipython",
    "version": 3
   },
   "file_extension": ".py",
   "mimetype": "text/x-python",
   "name": "python",
   "nbconvert_exporter": "python",
   "pygments_lexer": "ipython3",
   "version": "3.12.6"
  }
 },
 "nbformat": 4,
 "nbformat_minor": 2
}
