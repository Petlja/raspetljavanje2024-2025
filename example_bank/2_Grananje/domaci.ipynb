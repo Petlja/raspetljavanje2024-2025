{
 "cells": [
  {
   "cell_type": "markdown",
   "metadata": {},
   "source": [
    "### Zadatak 1\n",
    "Korisnik unosi tip pretplate (basic, premium), broj meseci članstva i cenu članarine. Program treba da dodeli popust i ispiše koliko korisnik treba da plati. Premium članovi plaćaju 50% veću cenu. Članovi koji plaćaju za više od 6 meseci dobijaju 10% popusta. Članovi koji plaćaju za više od 12 meseci dobijaju 20% popusta. "
   ]
  },
  {
   "cell_type": "markdown",
   "metadata": {},
   "source": [
    "### Zadatak 2\n",
    "Korisnik unosi broj sati rada i broj prekovremenih sati. Program treba da izračuna platu: osnovna plata je 500 dinara za standardne sate, a prekovremeni sati se plaćaju sa 250 dinara po satu. Ako je broj prekovremenih sati veći od 10, dodeljuje se bonus od 500 dinara."
   ]
  },
  {
   "cell_type": "markdown",
   "metadata": {},
   "source": [
    "### Zadatak 3\n",
    "\n",
    "Kreiraj program za upravljanje bibliotekama. Korisnik unosi broj dana kašnjenja sa vraćanjem knjige, broj dosadašnjih kašnjenja i da li je član biblioteke (da/ne). Pravila za kazne:\n",
    "\n",
    "- Ako je kašnjenje veće od 10 dana ili ima više od 3 dosadašnja kašnjenja, kazna je 100 din po danu.\n",
    "- Ako je kašnjenje između 1 i 10 dana i ima do 3 kašnjenja, kazna je 50 din po danu.\n",
    "- Ako nema kašnjenja, nema kazne."
   ]
  },
  {
   "cell_type": "markdown",
   "metadata": {},
   "source": [
    "### Zadatak 4\n",
    "\n",
    "Napravi program za online prodaju karata za koncert. Korisnik unosi broj kupljenih karata, da li je student (da/ne), i da li kupuje VIP paket (da/ne). Pravila:\n",
    "\n",
    "- Osnovna cena karte je 1500 din.\n",
    "- VIP paket dodaje 500 din po karti.\n",
    "- Ako je student, popust je 10%.\n",
    "- Ako kupi više od 4 karte, dobija dodatni popust od 5%."
   ]
  },
  {
   "cell_type": "markdown",
   "metadata": {},
   "source": [
    "### Zadatak 5\n",
    "\n",
    "Napraviti program koji traži od korisnika da unese broj i proverava da li je broj deljiv sa 5, sa 3 ili sa oba. U zavisnosti od uslova, ispisati odgovarajuću poruku."
   ]
  },
  {
   "cell_type": "markdown",
   "metadata": {},
   "source": [
    "### Zadatak 6\n",
    "\n",
    "Napisati program koji od korisnika traži tri broja i ispisuje koji je najveći od ta tri broja."
   ]
  },
  {
   "cell_type": "markdown",
   "metadata": {},
   "source": [
    "### Zadatak 7\n",
    "\n",
    "Napisati program koji za unetu godinu proferava da li je prestupna. Godina je prestupna ako je deljiva sa 4, osim ako je deljiva sa 100, ali ako je deljiva sa 400 onda jeste prestupna."
   ]
  },
  {
   "cell_type": "markdown",
   "metadata": {},
   "source": []
  },
  {
   "cell_type": "markdown",
   "metadata": {},
   "source": []
  },
  {
   "cell_type": "markdown",
   "metadata": {},
   "source": []
  },
  {
   "cell_type": "markdown",
   "metadata": {},
   "source": []
  },
  {
   "cell_type": "markdown",
   "metadata": {},
   "source": []
  }
 ],
 "metadata": {
  "language_info": {
   "name": "python"
  }
 },
 "nbformat": 4,
 "nbformat_minor": 2
}
