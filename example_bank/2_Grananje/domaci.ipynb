{
 "cells": [
  {
   "cell_type": "markdown",
   "metadata": {},
   "source": [
    "### Zadatak 1\n",
    "Korisnik unosi tip pretplate (basic, premium), broj meseci članstva i cenu članarine. Program treba da dodeli popust i ispiše koliko korisnik treba da plati. Premium članovi plaćaju 50% veću cenu. Članovi koji plaćaju za više od 6 meseci dobijaju 10% popusta. Članovi koji plaćaju za više od 12 meseci dobijaju 20% popusta. "
   ]
  },
  {
   "cell_type": "markdown",
   "metadata": {},
   "source": [
    "### Zadatak 2\n",
    "Korisnik unosi broj sati rada i broj prekovremenih sati. Program treba da izračuna platu: osnovna plata je 500 dinara za standardne sate, a prekovremeni sati se plaćaju sa 250 dinara po satu. Ako je broj prekovremenih sati veći od 10, dodeljuje se bonus od 500 dinara."
   ]
  },
  {
   "cell_type": "markdown",
   "metadata": {},
   "source": []
  },
  {
   "cell_type": "markdown",
   "metadata": {},
   "source": []
  },
  {
   "cell_type": "markdown",
   "metadata": {},
   "source": []
  }
 ],
 "metadata": {
  "language_info": {
   "name": "python"
  }
 },
 "nbformat": 4,
 "nbformat_minor": 2
}
