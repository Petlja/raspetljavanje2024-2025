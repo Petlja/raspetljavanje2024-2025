{
 "cells": [
  {
   "cell_type": "markdown",
   "metadata": {},
   "source": [
    "# Vežbe"
   ]
  },
  {
   "cell_type": "markdown",
   "metadata": {},
   "source": [
    "## String"
   ]
  },
  {
   "cell_type": "markdown",
   "metadata": {},
   "source": [
    "#### Ispiši pozdrav"
   ]
  },
  {
   "cell_type": "code",
   "execution_count": null,
   "metadata": {},
   "outputs": [],
   "source": [
    "# HINT: print(# DOPUNI)"
   ]
  },
  {
   "cell_type": "markdown",
   "metadata": {},
   "source": [
    "#### Ispisi ime i prezime zajedno u jednoj redu"
   ]
  },
  {
   "cell_type": "code",
   "execution_count": null,
   "metadata": {},
   "outputs": [],
   "source": [
    "prezime = \"Milosavljević\"\n",
    "ime = \"Ana\"\n",
    "# DOPUNI"
   ]
  },
  {
   "cell_type": "markdown",
   "metadata": {},
   "source": [
    "#### Formiraj unos imena i prezimena i ispisi ih zajedno u jednom redu"
   ]
  },
  {
   "cell_type": "code",
   "execution_count": null,
   "metadata": {},
   "outputs": [],
   "source": [
    "prezime = # DOPUNI\n",
    "ime = # DOPUNI\n",
    "# DOPUNI"
   ]
  },
  {
   "cell_type": "markdown",
   "metadata": {},
   "source": [
    "## Integer"
   ]
  },
  {
   "cell_type": "markdown",
   "metadata": {},
   "source": [
    "<font color='green'> **PITANJE:** </font> Šta će se ispisati na izlazu ako je ulaz 35 i 17?"
   ]
  },
  {
   "cell_type": "code",
   "execution_count": 4,
   "metadata": {},
   "outputs": [
    {
     "name": "stdout",
     "output_type": "stream",
     "text": [
      "3517\n"
     ]
    }
   ],
   "source": [
    "a = input()\n",
    "b = input()\n",
    "print(a+b)"
   ]
  },
  {
   "cell_type": "markdown",
   "metadata": {},
   "source": [
    "<font color='green'> **PITANJE:** </font> Šta će se ispisati na izlazu ako je ulaz 35 i 17?"
   ]
  },
  {
   "cell_type": "code",
   "execution_count": 5,
   "metadata": {},
   "outputs": [
    {
     "name": "stdout",
     "output_type": "stream",
     "text": [
      "52\n"
     ]
    }
   ],
   "source": [
    "a = int(input())\n",
    "b = int(input())\n",
    "print(a+b)"
   ]
  },
  {
   "cell_type": "markdown",
   "metadata": {},
   "source": [
    "#### Izračunati površinu kvadrata ako je uneta njegova stranica"
   ]
  },
  {
   "cell_type": "code",
   "execution_count": 1,
   "metadata": {},
   "outputs": [
    {
     "name": "stdout",
     "output_type": "stream",
     "text": [
      "DOPUNI\n"
     ]
    }
   ],
   "source": [
    "stranica = int(input())\n",
    "povrsina = # DOPUNI\n",
    "print(povrsina)"
   ]
  },
  {
   "cell_type": "markdown",
   "metadata": {},
   "source": [
    "#### Unose se dva broja, deljenik i delilac. Izraziti deljenik kao:   *deljenik = delilac * količnik + ostatak*"
   ]
  },
  {
   "cell_type": "code",
   "execution_count": null,
   "metadata": {},
   "outputs": [],
   "source": [
    "deljenik = int(input())\n",
    "delilac = int(input())\n",
    "# DOPUNI\n",
    "#HINT: print(deljenik, '=', kolicnik, '*', delilac, '+', ostatak)"
   ]
  },
  {
   "cell_type": "markdown",
   "metadata": {},
   "source": [
    "#### Ispravi dati kod (bez menjanja brojeva) tako da ispis bude 35"
   ]
  },
  {
   "cell_type": "code",
   "execution_count": 8,
   "metadata": {},
   "outputs": [
    {
     "name": "stdout",
     "output_type": "stream",
     "text": [
      "35\n"
     ]
    }
   ],
   "source": [
    "x = 3\n",
    "y = 4\n",
    "z = 5\n",
    "rezultat = x + y * z\n",
    "print(rezultat)"
   ]
  },
  {
   "cell_type": "markdown",
   "metadata": {},
   "source": [
    "## Konverzija tipova"
   ]
  },
  {
   "cell_type": "markdown",
   "metadata": {},
   "source": [
    "#### Izracunati godiste osobe na osnovu unetog broja godina i trenutne godine."
   ]
  },
  {
   "cell_type": "code",
   "execution_count": null,
   "metadata": {},
   "outputs": [],
   "source": [
    "trenutna_godina = input(\"Unesite trenutnu godinu: \")\n",
    "starost_osobe = input(\"Unesite starost osobe: \")\n",
    "godiste_osobe = # DOPUNI\n",
    "print(\"Osoba je rodjena u godini: \", godiste_osobe)"
   ]
  },
  {
   "cell_type": "markdown",
   "metadata": {},
   "source": [
    "#### Konvertuj string \"123\" u integer, saberi ga sa 456 i ispiši rezultat."
   ]
  },
  {
   "cell_type": "code",
   "execution_count": null,
   "metadata": {},
   "outputs": [],
   "source": [
    "broj_str = \"123\"\n",
    "broj = # DOPUNI(broj_str)\n",
    "result = broj + # DOPUNI\n",
    "print(result)\n"
   ]
  },
  {
   "cell_type": "markdown",
   "metadata": {},
   "source": [
    "## Float"
   ]
  },
  {
   "cell_type": "markdown",
   "metadata": {},
   "source": [
    "#### Izračunavanje prosečne ocene"
   ]
  },
  {
   "cell_type": "code",
   "execution_count": null,
   "metadata": {},
   "outputs": [],
   "source": [
    "ocena1 = int(input(\"Unesi prvu ocenu: \"))\n",
    "ocena2 = int(input(\"Unesi drugu ocenu: \"))\n",
    "ocena3 = int(input(\"Unesi treću ocenu: \"))\n",
    "prosek = # DOPUNI\n",
    "print(\"Tvoj prosek je: \" + str(prosek))"
   ]
  },
  {
   "cell_type": "markdown",
   "metadata": {},
   "source": [
    "#### Izračunavanje površine i obima kruga"
   ]
  },
  {
   "cell_type": "code",
   "execution_count": null,
   "metadata": {},
   "outputs": [],
   "source": [
    "r = float(input(\"Unesi poluprečnik kruga: \"))\n",
    "pi = 3.14\n",
    "obim = # DOPUNI\n",
    "povrsina = # DOPUNI\n",
    "print(\"Obim kruga je: \" + str(obim))\n",
    "print(\"Površina kruga je: \" + str(povrsina))"
   ]
  },
  {
   "cell_type": "markdown",
   "metadata": {},
   "source": []
  }
 ],
 "metadata": {
  "kernelspec": {
   "display_name": ".venv",
   "language": "python",
   "name": "python3"
  },
  "language_info": {
   "codemirror_mode": {
    "name": "ipython",
    "version": 3
   },
   "file_extension": ".py",
   "mimetype": "text/x-python",
   "name": "python",
   "nbconvert_exporter": "python",
   "pygments_lexer": "ipython3",
   "version": "3.12.6"
  }
 },
 "nbformat": 4,
 "nbformat_minor": 2
}
