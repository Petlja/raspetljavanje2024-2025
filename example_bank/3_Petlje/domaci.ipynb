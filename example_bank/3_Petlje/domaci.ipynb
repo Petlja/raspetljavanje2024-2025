{
 "cells": [
  {
   "cell_type": "markdown",
   "metadata": {},
   "source": [
    "Napiši program koji računa sumu cifara unetog broja koristeći while petlju."
   ]
  },
  {
   "cell_type": "markdown",
   "metadata": {},
   "source": [
    "Napiši program koji unosi n brojeva i računa razliku između najvećeg i najmanjeg broja."
   ]
  },
  {
   "cell_type": "markdown",
   "metadata": {},
   "source": [
    "Napiši program koji unosi n brojeva i računa aritmetičku sredinu samo parnih brojeva koristeći for petlju."
   ]
  },
  {
   "cell_type": "markdown",
   "metadata": {},
   "source": [
    "Kada građanin pozajmi novac banci, banka mu plaća kamatu. Kamata se obračunava na sledeći način: ako je kamatna stopa 5% godišnje, a građanin je pozajmio 1000 dinara, prve godine će platiti 50 dinara kamate, a drugu godinu 52.5 dinara (5% od 1050 dinara). Treću godinu će platiti 55.125 dinara (5% od 1102.5 dinara) itd. Napiši program koji unosi iznos pozajmice i kamatnu stopu i računa koliko će građanin platiti kamate nakon n godina."
   ]
  },
  {
   "cell_type": "markdown",
   "metadata": {},
   "source": [
    "Napiši program koji unosi broj i računa srednju vrednost njegovih cifara"
   ]
  },
  {
   "cell_type": "markdown",
   "metadata": {},
   "source": [
    "Napiši program koji unosi broj n i ispisuje sve hakone (brojevi čiji je zbir cifara deljiv sa 5) od 1 do n koristeći for petlju."
   ]
  },
  {
   "cell_type": "markdown",
   "metadata": {},
   "source": [
    "Napiši program koji unosi broj n i ispisuje sve proste brojeve od 2 do n koristeći for petlju."
   ]
  },
  {
   "cell_type": "markdown",
   "metadata": {},
   "source": [
    "Napraviti program koji za uneti broj n ispisuje sve kombinacije dva broja brojeva od 1 do n."
   ]
  },
  {
   "cell_type": "markdown",
   "metadata": {},
   "source": []
  }
 ],
 "metadata": {
  "language_info": {
   "name": "python"
  }
 },
 "nbformat": 4,
 "nbformat_minor": 2
}
