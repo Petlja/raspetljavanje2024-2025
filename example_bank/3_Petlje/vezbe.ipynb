{
 "cells": [
  {
   "cell_type": "markdown",
   "metadata": {},
   "source": [
    "Napiši proizvod svih brojeva od 1 do unetog broja."
   ]
  },
  {
   "cell_type": "code",
   "execution_count": 1,
   "metadata": {},
   "outputs": [],
   "source": [
    "n = int(input())\n",
    "proizvod = 0\n",
    "# DOPUNI\n",
    "print(proizvod)"
   ]
  },
  {
   "cell_type": "markdown",
   "metadata": {},
   "source": [
    "Napiši sve brojeve od 1 do unetog koji su deljivi sa 3 ili 5 ali izostavi one koji su deljivi sa oba broja."
   ]
  },
  {
   "cell_type": "code",
   "execution_count": null,
   "metadata": {},
   "outputs": [],
   "source": [
    "n = int(input())\n",
    "for i in range(n):\n",
    "    # DOPUNI"
   ]
  },
  {
   "cell_type": "markdown",
   "metadata": {},
   "source": [
    "Napiši program koji ispisuje kojiko cifara ima uneti broj."
   ]
  },
  {
   "cell_type": "code",
   "execution_count": null,
   "metadata": {},
   "outputs": [],
   "source": [
    "broj = int(input(\"Unesi broj: \"))\n",
    "count = 0\n",
    "while broj != 0:\n",
    "    broj = # DOPUNI\n",
    "    count += 1\n",
    "print(\"Broj cifara je:\", count)"
   ]
  },
  {
   "cell_type": "markdown",
   "metadata": {},
   "source": [
    "Napiši program koji izračunava zbir cifara unetog broja."
   ]
  },
  {
   "cell_type": "code",
   "execution_count": null,
   "metadata": {},
   "outputs": [],
   "source": [
    "broj = int(input(\"Unesi broj: \"))\n",
    "zbir = 0\n",
    "while broj != 0:\n",
    "    # DOPUNI\n",
    "print(\"Zbir cifara je:\", zbir)"
   ]
  },
  {
   "cell_type": "markdown",
   "metadata": {},
   "source": [
    "Napiši program koji proverava da li je broj prost."
   ]
  },
  {
   "cell_type": "code",
   "execution_count": null,
   "metadata": {},
   "outputs": [],
   "source": [
    "broj = int(input(\"Unesi broj: \"))\n",
    "if broj < 2:\n",
    "    print(\"Nije prost\")\n",
    "else:\n",
    "    i = 2\n",
    "    broj_je_prost = False\n",
    "    while i <= # DOPUNI:\n",
    "        if # DOPUNI:\n",
    "            broj_je_prost = True\n",
    "            break\n",
    "        i += 1\n",
    "\n",
    "if broj_je_prost:\n",
    "    print(\"Prost\")\n",
    "else:\n",
    "    print(\"Nije prost\")"
   ]
  },
  {
   "cell_type": "markdown",
   "metadata": {},
   "source": [
    "Napiši program koji ispisuje prvih n brojeva niza Fibonacci koristeći for petlju."
   ]
  },
  {
   "cell_type": "code",
   "execution_count": null,
   "metadata": {},
   "outputs": [],
   "source": [
    "n = int(input(\"Unesi broj n: \"))\n",
    "a, b = 0, 1\n",
    "for _ in range(n):\n",
    "    print(a)\n",
    "    # DOPUNI: Ažuriraj a i b"
   ]
  },
  {
   "cell_type": "markdown",
   "metadata": {},
   "source": [
    "Napiši program koji ispisuje tabelu množenja od 1 do 5 koristeći for petlju."
   ]
  },
  {
   "cell_type": "code",
   "execution_count": null,
   "metadata": {},
   "outputs": [],
   "source": [
    "for i in range(1, 6):\n",
    "    for j in range(1, 6):\n",
    "        # DOPUNI: Ispiši proizvod i * j sa tabulatorom\n",
    "    # DOPUNI: Prelazak u novi red\n"
   ]
  },
  {
   "cell_type": "markdown",
   "metadata": {},
   "source": [
    "Napisati program koji učitava broj n, a zatim učitava n brojeva i ispisuje njihov zbir."
   ]
  },
  {
   "cell_type": "code",
   "execution_count": null,
   "metadata": {},
   "outputs": [],
   "source": [
    "n = int(input(\"Unesi broj n: \"))\n",
    "zbir = 0\n",
    "for _ in range(n):\n",
    "    broj = int(input(\"Unesi broj: \"))\n",
    "    # DOPUNI\n",
    "print(\"Zbir unetih brojeva je:\", zbir)"
   ]
  },
  {
   "cell_type": "markdown",
   "metadata": {},
   "source": [
    "Napraviti program koji traži od korisnika da unese bro jsve dok zbir svih unetih brojeva ne pređe 100."
   ]
  },
  {
   "cell_type": "code",
   "execution_count": null,
   "metadata": {},
   "outputs": [],
   "source": [
    "zbir = 0\n",
    "while zbir < 100:\n",
    "    # DOPUNI"
   ]
  },
  {
   "cell_type": "markdown",
   "metadata": {},
   "source": [
    "Napiši program koji traži od korisnika da unosi brojeve dok ne unese reč 'stop'. Na kraju, program treba da ispiše srednju vrednost unetih brojeva koristeći while petlju."
   ]
  },
  {
   "cell_type": "code",
   "execution_count": null,
   "metadata": {},
   "outputs": [],
   "source": [
    "zbir = 0\n",
    "count = 0\n",
    "while True:\n",
    "    unos = input(\"Unesi broj ili 'stop' za kraj: \")\n",
    "    if unos.lower() == 'stop':\n",
    "        break\n",
    "    # DOPUNI\n",
    "srednja_vrednost = # DOPUNI\n",
    "print(\"Srednja vrednost je:\", srednja_vrednost)"
   ]
  },
  {
   "cell_type": "markdown",
   "metadata": {},
   "source": [
    "Napisati program koji unisi n brojeva i ispisuje najveći broj."
   ]
  },
  {
   "cell_type": "code",
   "execution_count": null,
   "metadata": {},
   "outputs": [],
   "source": [
    "n = int(input(\"Unesi broj n: \"))\n",
    "min = int(input(\"Unesi broj: \"))\n",
    "for _ in range(n-1):\n",
    "    broj = int(input(\"Unesi broj: \"))\n",
    "    # DOPUNI\n",
    "\n",
    "print(\"Najmanji broj je:\", min)"
   ]
  },
  {
   "cell_type": "markdown",
   "metadata": {},
   "source": []
  },
  {
   "cell_type": "markdown",
   "metadata": {},
   "source": []
  }
 ],
 "metadata": {
  "kernelspec": {
   "display_name": ".venv",
   "language": "python",
   "name": "python3"
  },
  "language_info": {
   "codemirror_mode": {
    "name": "ipython",
    "version": 3
   },
   "file_extension": ".py",
   "mimetype": "text/x-python",
   "name": "python",
   "nbconvert_exporter": "python",
   "pygments_lexer": "ipython3",
   "version": "3.12.7"
  }
 },
 "nbformat": 4,
 "nbformat_minor": 2
}
